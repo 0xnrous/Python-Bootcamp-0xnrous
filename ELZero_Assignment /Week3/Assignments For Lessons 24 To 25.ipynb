{
 "cells": [
  {
   "cell_type": "markdown",
   "id": "bc81006a",
   "metadata": {},
   "source": [
    "### Task1: Create a tuple consisting of one element, with its name without using brackets (), then print the only element in the tuple in the first line, and in the second line, print the type to make sure that the type is tuple"
   ]
  },
  {
   "cell_type": "code",
   "execution_count": 1,
   "id": "8e53fe91",
   "metadata": {},
   "outputs": [],
   "source": [
    "Tup = \"Eisa\",\n"
   ]
  },
  {
   "cell_type": "code",
   "execution_count": 2,
   "id": "b4949483",
   "metadata": {},
   "outputs": [
    {
     "name": "stdout",
     "output_type": "stream",
     "text": [
      "('Eisa',)\n"
     ]
    }
   ],
   "source": [
    "print (Tup)"
   ]
  },
  {
   "cell_type": "code",
   "execution_count": 3,
   "id": "32e36477",
   "metadata": {},
   "outputs": [
    {
     "name": "stdout",
     "output_type": "stream",
     "text": [
      "<class 'tuple'>\n"
     ]
    }
   ],
   "source": [
    "print (type(Tup))"
   ]
  },
  {
   "cell_type": "markdown",
   "id": "38318f68",
   "metadata": {},
   "source": [
    "## TASK2:\n",
    "### Create a tuple containing the names of 3 of your friends and the first name being Osama\n",
    "### Use your experience and what you've learned to change your first name from Osama to Elzero\n",
    "### Print the content of the tuple on the first line\n",
    "### Print the type to ensure that it is a tuple and not another data type\n",
    "### On the third line, print the number of items inside the tuple"
   ]
  },
  {
   "cell_type": "code",
   "execution_count": 4,
   "id": "25dff7a1",
   "metadata": {},
   "outputs": [],
   "source": [
    "Friends = (\"Osama\" , \"Eisa\", \"lyla\")"
   ]
  },
  {
   "cell_type": "code",
   "execution_count": 5,
   "id": "90819266",
   "metadata": {},
   "outputs": [],
   "source": [
    "NV = list(Friends)"
   ]
  },
  {
   "cell_type": "code",
   "execution_count": 6,
   "id": "ff6445a1",
   "metadata": {},
   "outputs": [],
   "source": [
    "NV[0] = \"Elzero\""
   ]
  },
  {
   "cell_type": "code",
   "execution_count": 7,
   "id": "010d04e5",
   "metadata": {},
   "outputs": [
    {
     "name": "stdout",
     "output_type": "stream",
     "text": [
      "['Elzero', 'Eisa', 'lyla']\n"
     ]
    }
   ],
   "source": [
    "print (NV)"
   ]
  },
  {
   "cell_type": "code",
   "execution_count": 8,
   "id": "1b8e100e",
   "metadata": {},
   "outputs": [],
   "source": [
    "VN = tuple(NV)"
   ]
  },
  {
   "cell_type": "code",
   "execution_count": 9,
   "id": "f9a06a94",
   "metadata": {},
   "outputs": [
    {
     "name": "stdout",
     "output_type": "stream",
     "text": [
      "('Elzero', 'Eisa', 'lyla')\n",
      "<class 'tuple'>\n"
     ]
    }
   ],
   "source": [
    "print (VN)\n",
    "print (type(VN))"
   ]
  },
  {
   "cell_type": "code",
   "execution_count": 10,
   "id": "264965c7",
   "metadata": {},
   "outputs": [
    {
     "name": "stdout",
     "output_type": "stream",
     "text": [
      "3\n"
     ]
    }
   ],
   "source": [
    "print (len(VN))"
   ]
  },
  {
   "cell_type": "markdown",
   "id": "386ebc3a",
   "metadata": {},
   "source": [
    "## TASK3: \n",
    "#### Create a tuple containing the numbers 1 through 3\n",
    "#### Create a tuple containing the letters A through C\n",
    "#### Concatenate them in a new tuple and print its content on the first line\n",
    "#### In the second line, count the number of items inside the new tuple"
   ]
  },
  {
   "cell_type": "code",
   "execution_count": 11,
   "id": "3f16636b",
   "metadata": {},
   "outputs": [],
   "source": [
    "nums = (1, 2, 3)\n",
    "letters = (\"A\", \"B\", \"C\") "
   ]
  },
  {
   "cell_type": "code",
   "execution_count": 12,
   "id": "9373cfdf",
   "metadata": {},
   "outputs": [],
   "source": [
    " New_list=list(letters) + list (nums)"
   ]
  },
  {
   "cell_type": "code",
   "execution_count": 13,
   "id": "773fdb98",
   "metadata": {},
   "outputs": [
    {
     "name": "stdout",
     "output_type": "stream",
     "text": [
      "['A', 'B', 'C', 1, 2, 3]\n"
     ]
    }
   ],
   "source": [
    "print (New_list)"
   ]
  },
  {
   "cell_type": "code",
   "execution_count": 14,
   "id": "5e908f7e",
   "metadata": {},
   "outputs": [],
   "source": [
    "New_Typle= tuple( New_list)"
   ]
  },
  {
   "cell_type": "code",
   "execution_count": 15,
   "id": "fec8220c",
   "metadata": {},
   "outputs": [
    {
     "name": "stdout",
     "output_type": "stream",
     "text": [
      "('A', 'B', 'C', 1, 2, 3)\n",
      "<class 'tuple'>\n"
     ]
    }
   ],
   "source": [
    "print (New_Typle)\n",
    "print (type(New_Typle))"
   ]
  },
  {
   "cell_type": "markdown",
   "id": "1d910af0",
   "metadata": {},
   "source": [
    "## Task4: \n",
    "### Create a tuple containing 4 elements with whatever data type you want\n",
    "### Destruct the tuple and assign the first value of to variable a and the second value to variable b and the fourth value to variable c\n",
    "### Print the variables a, b, and c on a different line\n",
    "### Make sure that you have created the destruct with only one line"
   ]
  },
  {
   "cell_type": "code",
   "execution_count": 16,
   "id": "040c97f1",
   "metadata": {},
   "outputs": [],
   "source": [
    "my_tuple = (11, \"hello\", True, 3.14)"
   ]
  },
  {
   "cell_type": "code",
   "execution_count": 17,
   "id": "cabd9bca",
   "metadata": {},
   "outputs": [],
   "source": [
    "a, b, _, c = my_tuple"
   ]
  },
  {
   "cell_type": "code",
   "execution_count": 18,
   "id": "6d986548",
   "metadata": {},
   "outputs": [
    {
     "name": "stdout",
     "output_type": "stream",
     "text": [
      "11\n",
      "hello\n",
      "3.14\n"
     ]
    }
   ],
   "source": [
    "print (a)\n",
    "print (b)\n",
    "print (c)"
   ]
  }
 ],
 "metadata": {
  "kernelspec": {
   "display_name": "Python 3 (ipykernel)",
   "language": "python",
   "name": "python3"
  },
  "language_info": {
   "codemirror_mode": {
    "name": "ipython",
    "version": 3
   },
   "file_extension": ".py",
   "mimetype": "text/x-python",
   "name": "python",
   "nbconvert_exporter": "python",
   "pygments_lexer": "ipython3",
   "version": "3.9.13"
  }
 },
 "nbformat": 4,
 "nbformat_minor": 5
}
