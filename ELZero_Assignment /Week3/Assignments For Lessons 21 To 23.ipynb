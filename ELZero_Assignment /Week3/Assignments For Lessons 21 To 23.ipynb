{
 "cells": [
  {
   "cell_type": "markdown",
   "id": "917450ef",
   "metadata": {},
   "source": [
    "#### Task1: Make a List that contains the names of your friends \n",
    "##### it contains at least 5 names. In the first and second lines, \n",
    "##### you need to print the name of the first friend in the list in two ways,\n",
    "##### then in the third and fourth lines, you print the name of the last friend in the list in two ways."
   ]
  },
  {
   "cell_type": "code",
   "execution_count": 1,
   "id": "5a8c8a29",
   "metadata": {},
   "outputs": [],
   "source": [
    "Friends = [\"Eisa\",\"Omar\",\"Abdulah\",\"MM\",\"YO\"]"
   ]
  },
  {
   "cell_type": "code",
   "execution_count": 2,
   "id": "234e1a0f",
   "metadata": {},
   "outputs": [
    {
     "name": "stdout",
     "output_type": "stream",
     "text": [
      "Eisa\n"
     ]
    }
   ],
   "source": [
    "print (Friends[0])"
   ]
  },
  {
   "cell_type": "code",
   "execution_count": 3,
   "id": "d4bee977",
   "metadata": {},
   "outputs": [
    {
     "name": "stdout",
     "output_type": "stream",
     "text": [
      "Eisa\n"
     ]
    }
   ],
   "source": [
    "print (Friends[-5])"
   ]
  },
  {
   "cell_type": "code",
   "execution_count": 4,
   "id": "4d134b73",
   "metadata": {},
   "outputs": [
    {
     "name": "stdout",
     "output_type": "stream",
     "text": [
      "YO\n"
     ]
    }
   ],
   "source": [
    "print (Friends[4])"
   ]
  },
  {
   "cell_type": "code",
   "execution_count": 5,
   "id": "971573ac",
   "metadata": {},
   "outputs": [
    {
     "name": "stdout",
     "output_type": "stream",
     "text": [
      "YO\n"
     ]
    }
   ],
   "source": [
    "print (Friends[-1])"
   ]
  },
  {
   "cell_type": "markdown",
   "id": "ea567e78",
   "metadata": {},
   "source": [
    "### Task2: From the previous list, print the odd names on the first line, and on the second line, print the even names"
   ]
  },
  {
   "cell_type": "code",
   "execution_count": 6,
   "id": "ac18ad20",
   "metadata": {},
   "outputs": [
    {
     "name": "stdout",
     "output_type": "stream",
     "text": [
      "Eisa Abdulah YO\n"
     ]
    }
   ],
   "source": [
    "# Even Names\n",
    "print (Friends[0] + ' '+Friends[2] +' '+ Friends[4])"
   ]
  },
  {
   "cell_type": "code",
   "execution_count": 7,
   "id": "4e60fcb2",
   "metadata": {},
   "outputs": [
    {
     "name": "stdout",
     "output_type": "stream",
     "text": [
      "Omar MM\n"
     ]
    }
   ],
   "source": [
    "# Odd Names\n",
    "print (Friends[1] + ' '+Friends[3] )"
   ]
  },
  {
   "cell_type": "markdown",
   "id": "71ddcd97",
   "metadata": {},
   "source": [
    "### Task3: Print the group of names No. 2, 3, and 4 in the first line, then the last name that preceded it in the second line, knowing that the code must work if we change the number of items in the list"
   ]
  },
  {
   "cell_type": "code",
   "execution_count": 8,
   "id": "82ac6150",
   "metadata": {},
   "outputs": [
    {
     "name": "stdout",
     "output_type": "stream",
     "text": [
      "['Omar', 'Abdulah', 'MM']\n"
     ]
    }
   ],
   "source": [
    "# firstly no 2,3,4 \n",
    "print (Friends[1:4])"
   ]
  },
  {
   "cell_type": "code",
   "execution_count": 9,
   "id": "628c0398",
   "metadata": {},
   "outputs": [
    {
     "name": "stdout",
     "output_type": "stream",
     "text": [
      "['MM', 'YO']\n"
     ]
    }
   ],
   "source": [
    "# secondaly no 5,4\n",
    "print (Friends[3:])"
   ]
  },
  {
   "cell_type": "markdown",
   "id": "1dc2c4f2",
   "metadata": {},
   "source": [
    "### Task4: Update the last two names in list to Eisa"
   ]
  },
  {
   "cell_type": "code",
   "execution_count": 10,
   "id": "dae40f4d",
   "metadata": {},
   "outputs": [],
   "source": [
    "Friends[3] ='Eisa' \n",
    "Friends[4] ='Eisa' "
   ]
  },
  {
   "cell_type": "code",
   "execution_count": 11,
   "id": "138a6b55",
   "metadata": {},
   "outputs": [
    {
     "name": "stdout",
     "output_type": "stream",
     "text": [
      "['Eisa', 'Omar', 'Abdulah', 'Eisa', 'Eisa']\n"
     ]
    }
   ],
   "source": [
    "print (Friends)"
   ]
  },
  {
   "cell_type": "code",
   "execution_count": 12,
   "id": "b0f3ad4c",
   "metadata": {},
   "outputs": [],
   "source": [
    "# Add name in the last of list \n",
    "Friends.append(\"MO\")"
   ]
  },
  {
   "cell_type": "code",
   "execution_count": 13,
   "id": "61127d1b",
   "metadata": {
    "scrolled": true
   },
   "outputs": [
    {
     "name": "stdout",
     "output_type": "stream",
     "text": [
      "['Eisa', 'Omar', 'Abdulah', 'Eisa', 'Eisa', 'MO']\n"
     ]
    }
   ],
   "source": [
    "print (Friends)"
   ]
  },
  {
   "cell_type": "markdown",
   "id": "d9003785",
   "metadata": {},
   "source": [
    "### Task5: Add a name from your friends to the list at the beginning of the list first, and then add another name at the end of the list"
   ]
  },
  {
   "cell_type": "code",
   "execution_count": 14,
   "id": "a5bf7b0b",
   "metadata": {},
   "outputs": [],
   "source": [
    "# Add name in the First index of list \n",
    "Friends[0] = \"Ahmed\""
   ]
  },
  {
   "cell_type": "code",
   "execution_count": 15,
   "id": "06b36cf6",
   "metadata": {},
   "outputs": [
    {
     "name": "stdout",
     "output_type": "stream",
     "text": [
      "['Ahmed', 'Omar', 'Abdulah', 'Eisa', 'Eisa', 'MO']\n"
     ]
    }
   ],
   "source": [
    "print(Friends)"
   ]
  },
  {
   "cell_type": "markdown",
   "id": "5be86e04",
   "metadata": {},
   "source": [
    "### Task6: Delete the first two names from the list, and then, in another line, remove the last name from the list"
   ]
  },
  {
   "cell_type": "code",
   "execution_count": 16,
   "id": "0d5b43ac",
   "metadata": {},
   "outputs": [],
   "source": [
    "Friends.remove('Ahmed')\n",
    "Friends.remove('Omar')"
   ]
  },
  {
   "cell_type": "code",
   "execution_count": 17,
   "id": "020fe7ff",
   "metadata": {},
   "outputs": [
    {
     "name": "stdout",
     "output_type": "stream",
     "text": [
      "['Abdulah', 'Eisa', 'Eisa', 'MO']\n"
     ]
    }
   ],
   "source": [
    "print (Friends)"
   ]
  },
  {
   "cell_type": "code",
   "execution_count": 18,
   "id": "2b7b32a7",
   "metadata": {},
   "outputs": [],
   "source": [
    "Friends.remove('MO')\n",
    "Friends.remove('Eisa')"
   ]
  },
  {
   "cell_type": "code",
   "execution_count": 19,
   "id": "64ae2f3c",
   "metadata": {},
   "outputs": [
    {
     "name": "stdout",
     "output_type": "stream",
     "text": [
      "['Abdulah', 'Eisa']\n"
     ]
    }
   ],
   "source": [
    "print (Friends)"
   ]
  },
  {
   "cell_type": "markdown",
   "id": "b4544128",
   "metadata": {},
   "source": [
    "### Task7: Create two more lists with more friends, then add them to the first list to make the final list of all friends"
   ]
  },
  {
   "cell_type": "code",
   "execution_count": 20,
   "id": "96f6e602",
   "metadata": {},
   "outputs": [],
   "source": [
    "Coll_1 = [\"Jimmy\", \"Askr\", \"Hamaza\", \"Salah\", \"Ibrahim\", \"Abdo\"]\n",
    "Coll_2 = [\"Saad\", \"Salama\", \"samir\", \"Mizzo\", \"Elkoumy\"]"
   ]
  },
  {
   "cell_type": "code",
   "execution_count": 21,
   "id": "e47b20ef",
   "metadata": {},
   "outputs": [],
   "source": [
    "Friends.append(Coll_1)"
   ]
  },
  {
   "cell_type": "code",
   "execution_count": 22,
   "id": "82bbf21e",
   "metadata": {},
   "outputs": [
    {
     "name": "stdout",
     "output_type": "stream",
     "text": [
      "['Abdulah', 'Eisa', ['Jimmy', 'Askr', 'Hamaza', 'Salah', 'Ibrahim', 'Abdo']]\n"
     ]
    }
   ],
   "source": [
    "print (Friends)"
   ]
  },
  {
   "cell_type": "code",
   "execution_count": 23,
   "id": "0f351240",
   "metadata": {},
   "outputs": [],
   "source": [
    "Friends.append(Coll_2)"
   ]
  },
  {
   "cell_type": "code",
   "execution_count": 24,
   "id": "53b1155c",
   "metadata": {},
   "outputs": [
    {
     "name": "stdout",
     "output_type": "stream",
     "text": [
      "['Abdulah', 'Eisa', ['Jimmy', 'Askr', 'Hamaza', 'Salah', 'Ibrahim', 'Abdo'], ['Saad', 'Salama', 'samir', 'Mizzo', 'Elkoumy']]\n"
     ]
    }
   ],
   "source": [
    "print (Friends)"
   ]
  },
  {
   "cell_type": "markdown",
   "id": "65d60952",
   "metadata": {},
   "source": [
    "### Task8: Arrange the names in the list on the first line from A to Z and on the second line from Z to A"
   ]
  },
  {
   "cell_type": "code",
   "execution_count": 25,
   "id": "ce7e71ab",
   "metadata": {},
   "outputs": [
    {
     "name": "stdout",
     "output_type": "stream",
     "text": [
      "['Abdulah', 'Eisa', ['Jimmy', 'Askr', 'Hamaza', 'Salah', 'Ibrahim', 'Abdo'], ['Saad', 'Salama', 'samir', 'Mizzo', 'Elkoumy']]\n"
     ]
    }
   ],
   "source": [
    "# from A to Z\n",
    "Friends.sort\n",
    "print (Friends)"
   ]
  },
  {
   "cell_type": "code",
   "execution_count": 26,
   "id": "4267f1d2",
   "metadata": {
    "scrolled": true
   },
   "outputs": [
    {
     "name": "stdout",
     "output_type": "stream",
     "text": [
      "[['Saad', 'Salama', 'samir', 'Mizzo', 'Elkoumy'], ['Jimmy', 'Askr', 'Hamaza', 'Salah', 'Ibrahim', 'Abdo'], 'Eisa', 'Abdulah']\n"
     ]
    }
   ],
   "source": [
    "# from Z to A\n",
    "Friends.reverse()\n",
    "print (Friends)"
   ]
  },
  {
   "cell_type": "markdown",
   "id": "82dab2f5",
   "metadata": {},
   "source": [
    "### Task9:Count the number of friends in the list"
   ]
  },
  {
   "cell_type": "code",
   "execution_count": 27,
   "id": "9a822bff",
   "metadata": {},
   "outputs": [
    {
     "name": "stdout",
     "output_type": "stream",
     "text": [
      "4\n"
     ]
    }
   ],
   "source": [
    "print (len(Friends))"
   ]
  },
  {
   "cell_type": "markdown",
   "id": "60e1e918",
   "metadata": {},
   "source": [
    "##### Task10:Make a list of the popular programming languages and within it a submenu with the names of popular frameworks, then in the first line, print the name of the first framework in the submenu, and in the second line the name of the last framework in the submenu, bearing in mind that the submenu can increase, but it is always the last element in the main menu"
   ]
  },
  {
   "cell_type": "code",
   "execution_count": 28,
   "id": "184c2808",
   "metadata": {},
   "outputs": [
    {
     "name": "stdout",
     "output_type": "stream",
     "text": [
      "Django\n"
     ]
    }
   ],
   "source": [
    "technologies = [\"Html\", \"CSS\", \"JS\", \"Python\", [\"Django\", \"Flask\", \"Web\"]]\n",
    "print (technologies[4][0])"
   ]
  },
  {
   "cell_type": "code",
   "execution_count": 29,
   "id": "03fddac6",
   "metadata": {},
   "outputs": [
    {
     "name": "stdout",
     "output_type": "stream",
     "text": [
      "Web\n"
     ]
    }
   ],
   "source": [
    "print (technologies[4][2])"
   ]
  }
 ],
 "metadata": {
  "kernelspec": {
   "display_name": "Python 3 (ipykernel)",
   "language": "python",
   "name": "python3"
  },
  "language_info": {
   "codemirror_mode": {
    "name": "ipython",
    "version": 3
   },
   "file_extension": ".py",
   "mimetype": "text/x-python",
   "name": "python",
   "nbconvert_exporter": "python",
   "pygments_lexer": "ipython3",
   "version": "3.9.13"
  }
 },
 "nbformat": 4,
 "nbformat_minor": 5
}
