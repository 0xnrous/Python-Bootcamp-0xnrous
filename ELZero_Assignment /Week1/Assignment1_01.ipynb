{
 "cells": [
  {
   "cell_type": "markdown",
   "id": "670caf3f",
   "metadata": {},
   "source": [
    "# Create a new file to start writing the code in, then at the top of the file write a Multiple Line Comment describing the file and you can write whatever you want, no problem"
   ]
  },
  {
   "cell_type": "code",
   "execution_count": 6,
   "id": "61dc100e",
   "metadata": {},
   "outputs": [
    {
     "data": {
      "text/plain": [
       "'\\nwe can her write aany thing to comment code also u can make multiple line of comment to this idel \\n'"
      ]
     },
     "execution_count": 6,
     "metadata": {},
     "output_type": "execute_result"
    }
   ],
   "source": [
    "#this is assignment 1 \n",
    "\"\"\"\n",
    "we can her write aany thing to comment code also u can make multiple line of comment to this idel \n",
    "\"\"\""
   ]
  },
  {
   "cell_type": "markdown",
   "id": "25149670",
   "metadata": {},
   "source": [
    "# Task2: String قم بإنشاء ثلاث متغيرات تحتوي على إسمك وسنك وبلدك, ويكون نوعهم "
   ]
  },
  {
   "cell_type": "code",
   "execution_count": 8,
   "id": "71928f8d",
   "metadata": {},
   "outputs": [],
   "source": [
    "name = \"Mohamed\""
   ]
  },
  {
   "cell_type": "code",
   "execution_count": 10,
   "id": "d76ef64f",
   "metadata": {},
   "outputs": [],
   "source": [
    "age = \"22\""
   ]
  },
  {
   "cell_type": "code",
   "execution_count": 12,
   "id": "85dc2895",
   "metadata": {},
   "outputs": [],
   "source": [
    "country = \"Egypt\""
   ]
  },
  {
   "cell_type": "markdown",
   "id": "77596113",
   "metadata": {},
   "source": [
    "# Task3: Print the values in the previous variables in three lines under each other and before them a name that expresses the variables to be printed in the next Output in the same way: \n",
    "\n",
    "\"\"\"\n",
    "\n",
    "\"Name: Osama\"\n",
    "\n",
    "\"Age: 38\"\n",
    "\n",
    "\"Country: Egypt\"\n",
    "\n",
    "\n",
    "\"\"\""
   ]
  },
  {
   "cell_type": "code",
   "execution_count": 15,
   "id": "c14b61c4",
   "metadata": {},
   "outputs": [
    {
     "name": "stdout",
     "output_type": "stream",
     "text": [
      "Name: Mohamed\n",
      "\n",
      "Age: 22\n",
      "\n",
      "Country: Egypt\n"
     ]
    }
   ],
   "source": [
    "print (f'Name: {name}\\n')\n",
    "print (f'Age: {age}\\n')\n",
    "print (f'Country: {country}')"
   ]
  },
  {
   "cell_type": "markdown",
   "id": "42867087",
   "metadata": {},
   "source": [
    "# Task4: Concatenate the variables with some words to output this message in the following output:\n",
    "\n",
    "\n",
    "\"\"\"\n",
    "\"Hello, My Name Is Osama And Iam 38 Years Old and I Live in Egypt.\"\n",
    "\"\"\""
   ]
  },
  {
   "cell_type": "code",
   "execution_count": 17,
   "id": "dec4796b",
   "metadata": {},
   "outputs": [
    {
     "name": "stdout",
     "output_type": "stream",
     "text": [
      "Hello, My Name is Mohamed And i am 22 Years Old and I Live in Egypt. \n"
     ]
    }
   ],
   "source": [
    "print (f\"Hello, My Name is {name} And i am {age} Years Old and I Live in {country}. \")"
   ]
  },
  {
   "cell_type": "markdown",
   "id": "d62c030a",
   "metadata": {},
   "source": [
    "# Task5: Print the type of each of the variables we created on a separate line to show us the following Output:\n"
   ]
  },
  {
   "cell_type": "code",
   "execution_count": 21,
   "id": "8b120308",
   "metadata": {},
   "outputs": [
    {
     "name": "stdout",
     "output_type": "stream",
     "text": [
      "<class 'str'>\n",
      "<class 'str'>\n",
      "<class 'str'>\n"
     ]
    }
   ],
   "source": [
    "print (type(name))\n",
    "print (type(age))\n",
    "print (type(country))"
   ]
  },
  {
   "cell_type": "code",
   "execution_count": null,
   "id": "9500082b",
   "metadata": {},
   "outputs": [],
   "source": []
  }
 ],
 "metadata": {
  "kernelspec": {
   "display_name": "Python 3 (ipykernel)",
   "language": "python",
   "name": "python3"
  },
  "language_info": {
   "codemirror_mode": {
    "name": "ipython",
    "version": 3
   },
   "file_extension": ".py",
   "mimetype": "text/x-python",
   "name": "python",
   "nbconvert_exporter": "python",
   "pygments_lexer": "ipython3",
   "version": "3.9.13"
  }
 },
 "nbformat": 4,
 "nbformat_minor": 5
}
