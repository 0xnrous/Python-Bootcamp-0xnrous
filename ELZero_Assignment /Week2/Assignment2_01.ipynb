{
 "cells": [
  {
   "cell_type": "markdown",
   "id": "64c802d8",
   "metadata": {},
   "source": [
    "#### Create three variables that are your name, age, and country, then print the following message with Concatenate work for the variables with the following tags and words. To get the same message in the end, you must show the message as it is with all the tags in the same order and spaces:\n",
    "\n",
    "Eample: \n",
    "\n",
    "\"Hello 'Osama', How You Doing \\ \"\"\" Your Age Is \"38\"\" + And Your Country Is: Egypt"
   ]
  },
  {
   "cell_type": "code",
   "execution_count": 2,
   "id": "53597568",
   "metadata": {},
   "outputs": [],
   "source": [
    "name= \"Eisa\"\n",
    "age= \"33\"\n",
    "country = \"Eygpt\""
   ]
  },
  {
   "cell_type": "code",
   "execution_count": 14,
   "id": "ada3e6a7",
   "metadata": {},
   "outputs": [
    {
     "name": "stdout",
     "output_type": "stream",
     "text": [
      "\"Hello 'Eisa', How You Doing \\ \"\"\" Your Age IS \"33\"\" +And Your Country Is: Eygpt\n"
     ]
    }
   ],
   "source": [
    "print(f\"\\\"Hello \\'{name}\\', How You Doing \\\\ \" +'\"\"\"' + f\" Your Age IS \\\"{age}\\\"\"+'\"'+' +'+f\"And Your Country Is: { country}\"    )\n"
   ]
  },
  {
   "cell_type": "markdown",
   "id": "deb50bd1",
   "metadata": {},
   "source": [
    "## Print the same previous message as it is, but on more than one line, see the required Output:\n",
    "\n",
    "\"\"\"\" \n",
    "\n",
    "\"Hello 'Osama', How You Doing \\\n",
    "\"\"\" Your Age Is \"38\"\" +\n",
    "And Your Country Is: Egypt\n",
    "\n",
    "\"\"\""
   ]
  },
  {
   "cell_type": "code",
   "execution_count": 17,
   "id": "f2bc3a17",
   "metadata": {},
   "outputs": [
    {
     "name": "stdout",
     "output_type": "stream",
     "text": [
      "\"Hello 'Eisa', How You Doing \\ \n",
      "\"\"\" Your Age IS \"33\"\" +\n",
      "And Your Country Is: Eygpt\n"
     ]
    }
   ],
   "source": [
    "print(f\"\\\"Hello \\'{name}\\', How You Doing \\\\ \\n\" +'\"\"\"' + f\" Your Age IS \\\"{age}\\\"\"+'\"'+' +\\n'+f\"And Your Country Is: { country}\"    )\n"
   ]
  },
  {
   "cell_type": "markdown",
   "id": "3d45b0c8",
   "metadata": {},
   "source": [
    "### Create a name variable with the value “Elzero” in it, then by means of Indexing + Slicing, fetch the second letter in the first line, the third letter in the second line, and the last letter in the third line, you must fetch the letter in a dynamic way as the word can change, see the example to see Required:\n",
    "\n"
   ]
  },
  {
   "cell_type": "code",
   "execution_count": 23,
   "id": "99b591c5",
   "metadata": {},
   "outputs": [],
   "source": [
    "name1=\"Elzero\""
   ]
  },
  {
   "cell_type": "code",
   "execution_count": 32,
   "id": "816dcce8",
   "metadata": {},
   "outputs": [
    {
     "name": "stdout",
     "output_type": "stream",
     "text": [
      "the second letter is \"l\"\n",
      "the third letter is \"z\"\n",
      "the last letter is \"o\"\n"
     ]
    }
   ],
   "source": [
    "print (f'the second letter is \\\"{name1[1]}\\\"')\n",
    "print(f'the third letter is \\\"{name1[2]}\\\"')\n",
    "print(f'the last letter is \\\"{name1[5]}\\\"')"
   ]
  },
  {
   "cell_type": "markdown",
   "id": "883919d2",
   "metadata": {},
   "source": [
    "### We will use the above, but we will extract more than one letter, not just one. You must write the code to produce the result, as in the following example:\n",
    "\n",
    " ##### name = 'Elzero'\n",
    " ##### Needed Output\n",
    " ##### \"lze\"\n",
    " ##### \"Ezr\"\n",
    " ##### \"rzE\""
   ]
  },
  {
   "cell_type": "code",
   "execution_count": 48,
   "id": "095592cb",
   "metadata": {},
   "outputs": [
    {
     "name": "stdout",
     "output_type": "stream",
     "text": [
      " \"lze\"\n"
     ]
    }
   ],
   "source": [
    "n0= name1[1:4]\n",
    "print (f\" \\\"{n0}\\\"\")"
   ]
  },
  {
   "cell_type": "code",
   "execution_count": 39,
   "id": "4e740b8b",
   "metadata": {},
   "outputs": [],
   "source": [
    "n1=name1[0] + name1[2] + name1[4]"
   ]
  },
  {
   "cell_type": "code",
   "execution_count": 47,
   "id": "cda19e39",
   "metadata": {},
   "outputs": [
    {
     "name": "stdout",
     "output_type": "stream",
     "text": [
      " \"Ezr\"\n"
     ]
    }
   ],
   "source": [
    "print (f\" \\\"{n1}\\\"\")"
   ]
  },
  {
   "cell_type": "code",
   "execution_count": 43,
   "id": "3ebdcf86",
   "metadata": {},
   "outputs": [],
   "source": [
    "n2= name1[4] + name1[2] + name1[0]"
   ]
  },
  {
   "cell_type": "code",
   "execution_count": 49,
   "id": "7bac73ac",
   "metadata": {},
   "outputs": [
    {
     "name": "stdout",
     "output_type": "stream",
     "text": [
      " \"rzE\"\n"
     ]
    }
   ],
   "source": [
    "print(f\" \\\"{n2}\\\"\")"
   ]
  },
  {
   "cell_type": "code",
   "execution_count": 58,
   "id": "1a9f5c10",
   "metadata": {},
   "outputs": [
    {
     "data": {
      "text/plain": [
       "'Elzero'"
      ]
     },
     "execution_count": 58,
     "metadata": {},
     "output_type": "execute_result"
    }
   ],
   "source": [
    "name3= \"#@#@Elzero#@#@\"\n",
    "name3[4:-4]"
   ]
  },
  {
   "cell_type": "code",
   "execution_count": 60,
   "id": "95c94150",
   "metadata": {},
   "outputs": [
    {
     "name": "stdout",
     "output_type": "stream",
     "text": [
      "0009\n",
      "0015\n",
      "0130\n",
      "0950\n",
      "1500\n"
     ]
    }
   ],
   "source": [
    "num1 = \"9\"\n",
    "num2 = \"15\"\n",
    "num3 = \"130\"\n",
    "num4 = \"950\"\n",
    "num5 = \"1500\"\n",
    "print (num1.zfill(4))\n",
    "print (num2.zfill(4))\n",
    "print (num3.zfill(4))\n",
    "print (num4.zfill(4))\n",
    "print (num5.zfill(4))"
   ]
  },
  {
   "cell_type": "code",
   "execution_count": 68,
   "id": "fe3402c7",
   "metadata": {},
   "outputs": [
    {
     "name": "stdout",
     "output_type": "stream",
     "text": [
      "@@@@@@@@@@@@@@@@Eisa\n",
      "##########Eisa_jesus\n"
     ]
    }
   ],
   "source": [
    "name_one = \"Eisa\"\n",
    "name_two = \"Eisa_jesus\"\n",
    "\n",
    "print(name_one.rjust(20 , \"@\"))\n",
    "print(name_two.rjust(20, \"#\"))\n"
   ]
  },
  {
   "cell_type": "code",
   "execution_count": 72,
   "id": "462a3e91",
   "metadata": {},
   "outputs": [
    {
     "name": "stdout",
     "output_type": "stream",
     "text": [
      "eISA\n",
      "eISA_JESUS\n"
     ]
    }
   ],
   "source": [
    "print(name_one.swapcase())\n",
    "print(name_two.swapcase())"
   ]
  },
  {
   "cell_type": "code",
   "execution_count": 74,
   "id": "d7ec1ea2",
   "metadata": {},
   "outputs": [
    {
     "data": {
      "text/plain": [
       "2"
      ]
     },
     "execution_count": 74,
     "metadata": {},
     "output_type": "execute_result"
    }
   ],
   "source": [
    "msg = \"I Love Python And Although Love Elzero Web School\"\n",
    "msg.count(\"Love\")"
   ]
  },
  {
   "cell_type": "code",
   "execution_count": 82,
   "id": "67f41544",
   "metadata": {},
   "outputs": [
    {
     "data": {
      "text/plain": [
       "3"
      ]
     },
     "execution_count": 82,
     "metadata": {},
     "output_type": "execute_result"
    }
   ],
   "source": [
    "name_one.index(\"a\")"
   ]
  },
  {
   "cell_type": "code",
   "execution_count": 92,
   "id": "1acce75b",
   "metadata": {},
   "outputs": [
    {
     "name": "stdout",
     "output_type": "stream",
     "text": [
      "I love Python And Although <3 Elzero Web School\n",
      "I love Python And Although love Elzero Web School\n"
     ]
    }
   ],
   "source": [
    "msg = \"I <3 Python And Although <3 Elzero Web School\"\n",
    "print (msg.replace(\"<3\", \"love\", 1))\n",
    "print (msg.replace(\"<3\", \"love\", 2))"
   ]
  },
  {
   "cell_type": "code",
   "execution_count": 94,
   "id": "bca5146e",
   "metadata": {},
   "outputs": [
    {
     "name": "stdout",
     "output_type": "stream",
     "text": [
      "My Name Is Eisa, And My Age Is 22, And My Country Is Egypt\n"
     ]
    }
   ],
   "source": [
    "name = \"Eisa\"\n",
    "age = 22\n",
    "country = \"Egypt\"\n",
    "\n",
    "print (f'My Name Is {name}, And My Age Is {age}, And My Country Is {country}')\n"
   ]
  }
 ],
 "metadata": {
  "kernelspec": {
   "display_name": "Python 3 (ipykernel)",
   "language": "python",
   "name": "python3"
  },
  "language_info": {
   "codemirror_mode": {
    "name": "ipython",
    "version": 3
   },
   "file_extension": ".py",
   "mimetype": "text/x-python",
   "name": "python",
   "nbconvert_exporter": "python",
   "pygments_lexer": "ipython3",
   "version": "3.9.13"
  }
 },
 "nbformat": 4,
 "nbformat_minor": 5
}
