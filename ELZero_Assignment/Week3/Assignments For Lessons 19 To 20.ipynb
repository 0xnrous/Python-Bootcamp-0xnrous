{
 "cells": [
  {
   "cell_type": "markdown",
   "id": "b5291ad7",
   "metadata": {},
   "source": [
    "## Task1: Print all types of Numbers, each one on a separate line"
   ]
  },
  {
   "cell_type": "code",
   "execution_count": 1,
   "id": "06469040",
   "metadata": {},
   "outputs": [],
   "source": [
    "num1 =2 \n",
    "num2 = 2.3\n",
    "num3= 1 +2j\n"
   ]
  },
  {
   "cell_type": "code",
   "execution_count": 2,
   "id": "4bd6fb17",
   "metadata": {},
   "outputs": [
    {
     "name": "stdout",
     "output_type": "stream",
     "text": [
      "<class 'int'>\n"
     ]
    }
   ],
   "source": [
    "print (type(num1))"
   ]
  },
  {
   "cell_type": "code",
   "execution_count": 3,
   "id": "55b008ec",
   "metadata": {
    "scrolled": true
   },
   "outputs": [
    {
     "name": "stdout",
     "output_type": "stream",
     "text": [
      "<class 'float'>\n"
     ]
    }
   ],
   "source": [
    "print (type(num2))"
   ]
  },
  {
   "cell_type": "code",
   "execution_count": 4,
   "id": "7dfe1703",
   "metadata": {
    "scrolled": true
   },
   "outputs": [
    {
     "name": "stdout",
     "output_type": "stream",
     "text": [
      "<class 'complex'>\n"
     ]
    }
   ],
   "source": [
    "print (type(num3))"
   ]
  },
  {
   "cell_type": "markdown",
   "id": "f937b5ed",
   "metadata": {},
   "source": [
    "### Task2: Print the Imaginary part of the following Complex Number “1+2j” in the first line and in the second line print the Real part"
   ]
  },
  {
   "cell_type": "code",
   "execution_count": 5,
   "id": "b7e20982",
   "metadata": {},
   "outputs": [],
   "source": [
    "img = num3.imag"
   ]
  },
  {
   "cell_type": "code",
   "execution_count": 6,
   "id": "02b6a334",
   "metadata": {},
   "outputs": [
    {
     "name": "stdout",
     "output_type": "stream",
     "text": [
      "2.0\n"
     ]
    }
   ],
   "source": [
    "print (img)"
   ]
  },
  {
   "cell_type": "code",
   "execution_count": 7,
   "id": "1192baee",
   "metadata": {},
   "outputs": [],
   "source": [
    "real = num3.real"
   ]
  },
  {
   "cell_type": "code",
   "execution_count": 8,
   "id": "8bc99953",
   "metadata": {},
   "outputs": [
    {
     "name": "stdout",
     "output_type": "stream",
     "text": [
      "1.0\n"
     ]
    }
   ],
   "source": [
    "print(real)"
   ]
  },
  {
   "cell_type": "markdown",
   "id": "98b81226",
   "metadata": {},
   "source": [
    "### Task3: Convert the number to 10 as a Floating Point Number with ten digits after the decimal point"
   ]
  },
  {
   "cell_type": "code",
   "execution_count": 9,
   "id": "b8063d6e",
   "metadata": {},
   "outputs": [
    {
     "name": "stdout",
     "output_type": "stream",
     "text": [
      "10.0000000000\n"
     ]
    }
   ],
   "source": [
    "# we will use formatting| format (value , '.2f')\n",
    "num =10\n",
    "print(format (num , '.10f'))"
   ]
  },
  {
   "cell_type": "markdown",
   "id": "12daeb41",
   "metadata": {},
   "source": [
    "### Task4: Convert the number 159.650 to Integer and then print it in the first line, then in the second line you print its type and confirm that it is Integer"
   ]
  },
  {
   "cell_type": "code",
   "execution_count": 10,
   "id": "61291d42",
   "metadata": {},
   "outputs": [
    {
     "name": "stdout",
     "output_type": "stream",
     "text": [
      "159\n"
     ]
    }
   ],
   "source": [
    "number = 159.650\n",
    "print (int (number))"
   ]
  },
  {
   "cell_type": "code",
   "execution_count": 11,
   "id": "cba84950",
   "metadata": {},
   "outputs": [
    {
     "name": "stdout",
     "output_type": "stream",
     "text": [
      "<class 'int'>\n"
     ]
    }
   ],
   "source": [
    "print (type(int (number)))"
   ]
  },
  {
   "cell_type": "markdown",
   "id": "66629a0d",
   "metadata": {},
   "source": [
    "### Task5: Put the appropriate arithmetic sign instead of the question mark so that the result is correct in the following examples \n",
    "##### 100 ? 115 = -15\n",
    "##### 50 ? 30 = 1500\n",
    "##### 21 ? 4 = 1\n",
    "##### 110 ? 11 = 10\n",
    "##### 97 ? 20 = 4"
   ]
  },
  {
   "cell_type": "code",
   "execution_count": 12,
   "id": "444b7760",
   "metadata": {},
   "outputs": [],
   "source": [
    "n1=100 - 115 \n",
    "n2=50 * 30 \n",
    "n3=21 % 4 \n",
    "n4=int (110 / 11)\n",
    "n5=int (97 / 20) "
   ]
  },
  {
   "cell_type": "code",
   "execution_count": 13,
   "id": "bc43a2cf",
   "metadata": {},
   "outputs": [
    {
     "name": "stdout",
     "output_type": "stream",
     "text": [
      "-15\n",
      "1500\n",
      "1\n",
      "10\n",
      "4\n"
     ]
    }
   ],
   "source": [
    "print (n1)\n",
    "print (n2)\n",
    "print (n3)\n",
    "print (n4)\n",
    "print (n5)"
   ]
  }
 ],
 "metadata": {
  "kernelspec": {
   "display_name": "Python 3 (ipykernel)",
   "language": "python",
   "name": "python3"
  },
  "language_info": {
   "codemirror_mode": {
    "name": "ipython",
    "version": 3
   },
   "file_extension": ".py",
   "mimetype": "text/x-python",
   "name": "python",
   "nbconvert_exporter": "python",
   "pygments_lexer": "ipython3",
   "version": "3.9.13"
  }
 },
 "nbformat": 4,
 "nbformat_minor": 5
}
